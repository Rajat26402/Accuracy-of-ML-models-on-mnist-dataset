{
  "nbformat": 4,
  "nbformat_minor": 0,
  "metadata": {
    "colab": {
      "provenance": []
    },
    "kernelspec": {
      "name": "python3",
      "display_name": "Python 3"
    },
    "language_info": {
      "name": "python"
    }
  },
  "cells": [
    {
      "cell_type": "code",
      "execution_count": 78,
      "metadata": {
        "id": "yb1tsrbCdyqp"
      },
      "outputs": [],
      "source": [
        "import struct\n",
        "import numpy as np\n",
        "from sklearn import neighbors,metrics\n",
        "import matplotlib.pyplot as plt\n",
        "import gzip\n",
        "%matplotlib inline"
      ]
    },
    {
      "cell_type": "code",
      "source": [
        "def read_idx(filename) :\n",
        "  with gzip.open(filename) as f:\n",
        "      zero,data_type,dims=struct.unpack('>HBB',f.read(4))\n",
        "      shape = tuple(struct.unpack('>I',f.read(4))[0] for d in range(dims))\n",
        "      return np.fromstring(f.read(),dtype=np.uint8).reshape(shape)\n",
        " "
      ],
      "metadata": {
        "id": "azCj84VbgR5t"
      },
      "execution_count": 79,
      "outputs": []
    },
    {
      "cell_type": "code",
      "source": [
        "raw_train = read_idx(\"/content/train-images-idx3-ubyte.gz\")\n",
        "train_data =np.reshape(raw_train,(60000,28*28))  \n",
        "train_label =read_idx(\"/content/train-labels-idx1-ubyte.gz\")  \n",
        "raw_test = read_idx(\"/content/t10k-images-idx3-ubyte.gz\")\n",
        "test_data =np.reshape(raw_test,(10000,28*28))  \n",
        "test_label =read_idx(\"/content/t10k-labels-idx1-ubyte.gz\")"
      ],
      "metadata": {
        "colab": {
          "base_uri": "https://localhost:8080/"
        },
        "id": "6V3hvjl8gm3S",
        "outputId": "8e3485ca-c0b7-4aae-f24d-50f0c76ee0ca"
      },
      "execution_count": 80,
      "outputs": [
        {
          "output_type": "stream",
          "name": "stderr",
          "text": [
            "/usr/local/lib/python3.7/dist-packages/ipykernel_launcher.py:5: DeprecationWarning: The binary mode of fromstring is deprecated, as it behaves surprisingly on unicode inputs. Use frombuffer instead\n",
            "  \"\"\"\n"
          ]
        }
      ]
    },
    {
      "cell_type": "code",
      "source": [
        "train_label.shape"
      ],
      "metadata": {
        "colab": {
          "base_uri": "https://localhost:8080/"
        },
        "id": "IA8CjIhdn_ZQ",
        "outputId": "7d33023f-bdb8-4830-8ed9-3e6cf6963c96"
      },
      "execution_count": 81,
      "outputs": [
        {
          "output_type": "execute_result",
          "data": {
            "text/plain": [
              "(60000,)"
            ]
          },
          "metadata": {},
          "execution_count": 81
        }
      ]
    },
    {
      "cell_type": "code",
      "source": [
        "idx = (train_label==2) | (train_label==3) | (train_label == 8) "
      ],
      "metadata": {
        "id": "cZTtbzbRmxh4"
      },
      "execution_count": 82,
      "outputs": []
    },
    {
      "cell_type": "code",
      "source": [
        "print(train_label[0:20])\n",
        "print(idx[0:20])\n"
      ],
      "metadata": {
        "colab": {
          "base_uri": "https://localhost:8080/"
        },
        "id": "8f1GZRCAnrPT",
        "outputId": "ba09c9d4-3d6a-406a-bc0e-2c9ccfe16a9c"
      },
      "execution_count": 53,
      "outputs": [
        {
          "output_type": "stream",
          "name": "stdout",
          "text": [
            "[5 0 4 1 9 2 1 3 1 4 3 5 3 6 1 7 2 8 6 9]\n",
            "[False False False False False  True False  True False False  True False\n",
            "  True False False False  True  True False False]\n"
          ]
        }
      ]
    },
    {
      "cell_type": "code",
      "source": [
        "x=train_data[idx]\n",
        "y=train_label[idx]\n",
        "knn=neighbors.KNeighborsClassifier(n_neighbors=3).fit(x,y)"
      ],
      "metadata": {
        "id": "p1kNJBvtpTsG"
      },
      "execution_count": 83,
      "outputs": []
    },
    {
      "cell_type": "code",
      "source": [
        "idx = (test_label==2) | (test_label==3) | (test_label == 8)  \n",
        "x_test=test_data[idx]   \n",
        "y_true=test_label[idx] \n",
        "y_pred = knn.predict(x_test)"
      ],
      "metadata": {
        "id": "XIzhn7lakZqG"
      },
      "execution_count": 84,
      "outputs": []
    },
    {
      "cell_type": "code",
      "source": [
        "import itertools\n",
        "def plot_confusion_matrix(cm, classes,normalize=False,title='Confusion matrix',cmap=plt.cm.Blues):\n",
        "  \"\"\"\n",
        "  This function prints and plots the confusion matrix.\n",
        "  Normalization can be applied by setting `normalize=True`.\n",
        "  \"\"\"\n",
        "  plt.imshow(cm, interpolation='nearest', cmap=cmap)\n",
        "  plt.title(title)\n",
        "  plt.colorbar()\n",
        "  tick_marks = np.arange(len(classes))\n",
        "  plt.xticks(tick_marks, classes, rotation=45)\n",
        "  plt.yticks(tick_marks, classes)\n",
        "\n",
        "  if normalize:\n",
        "      cm = cm.astype('float') / cm.sum(axis=1)[:, np.newaxis]\n",
        "      print(\"Normalized confusion matrix\")\n",
        "  else:\n",
        "      print('Confusion matrix, without normalization')\n",
        "\n",
        "  print(cm)\n",
        "\n",
        "  thresh = cm.max() / 2.\n",
        "  for i, j in itertools.product(range(cm.shape[0]), range(cm.shape[1])):\n",
        "      plt.text(j, i, cm[i, j],\n",
        "                horizontalalignment=\"center\",\n",
        "                color=\"white\" if cm[i, j] > thresh else \"black\")\n",
        "\n",
        "  plt.tight_layout()\n",
        "  plt.ylabel('True label')\n",
        "  plt.xlabel('Predicted label')\n",
        "\n",
        "\n"
      ],
      "metadata": {
        "id": "NslNkcM0kdXv"
      },
      "execution_count": 85,
      "outputs": []
    },
    {
      "cell_type": "code",
      "source": [
        "cm=metrics.confusion_matrix(y_true,y_pred)\n",
        "plot_confusion_matrix(cm,[\"2\",\"3\",\"8\"])"
      ],
      "metadata": {
        "colab": {
          "base_uri": "https://localhost:8080/",
          "height": 380
        },
        "id": "ozpmt26ir5Uk",
        "outputId": "5fc652f8-8735-41f4-c241-947aa8a83c81"
      },
      "execution_count": 86,
      "outputs": [
        {
          "output_type": "stream",
          "name": "stdout",
          "text": [
            "Confusion matrix, without normalization\n",
            "[[1025    3    4]\n",
            " [   5 1001    4]\n",
            " [   6   16  952]]\n"
          ]
        },
        {
          "output_type": "display_data",
          "data": {
            "text/plain": [
              "<Figure size 432x288 with 2 Axes>"
            ],
            "image/png": "[encoded data removed]"
          },
          "metadata": {
            "needs_background": "light"
          }
        }
      ]
    },
    {
      "cell_type": "code",
      "source": [
        "idx = np.where((y_pred == 2 ) & (y_true == 8))[0]\n",
        "fig = plt.figure(figsize=(5,30))\n",
        "for i in range(len(idx)):\n",
        "    ax=fig.add_subplot(len(idx), 1 ,i+1)\n",
        "    imgplot=ax.imshow(np.reshape(x_test[idx[i],:],(28,28)) , cmap=plt.cm.get_cmap(\"Greys\"))\n",
        "    imgplot.set_interpolation(\"nearest\")\n",
        "plt.show()"
      ],
      "metadata": {
        "colab": {
          "base_uri": "https://localhost:8080/",
          "height": 1000
        },
        "id": "q1JQAVsrgLmY",
        "outputId": "e96d0c31-8427-48dd-c27d-3e42043ec1cb"
      },
      "execution_count": 88,
      "outputs": [
        {
          "output_type": "display_data",
          "data": {
            "text/plain": [
              "<Figure size 360x2160 with 6 Axes>"
            ],
            "image/png": "[encoded data removed]"
          },
          "metadata": {
            "needs_background": "light"
          }
        }
      ]
    }
  ]
}