{
  "cells": [
    {
      "cell_type": "code",
      "execution_count": null,
      "metadata": {
        "id": "yb1tsrbCdyqp"
      },
      "outputs": [],
      "source": [
        "import struct\n",
        "import numpy as np\n",
        "from sklearn import svm,metrics\n",
        "import matplotlib.pyplot as plt\n",
        "import gzip\n",
        "%matplotlib inline"
      ]
    },
    {
      "cell_type": "code",
      "execution_count": null,
      "metadata": {
        "id": "azCj84VbgR5t"
      },
      "outputs": [],
      "source": [
        "def read_idx(filename) :\n",
        "  with gzip.open(filename) as f:\n",
        "      zero,data_type,dims=struct.unpack('>HBB',f.read(4))\n",
        "      shape = tuple(struct.unpack('>I',f.read(4))[0] for d in range(dims))\n",
        "      return np.fromstring(f.read(),dtype=np.uint8).reshape(shape)\n",
        " "
      ]
    },
    {
      "cell_type": "code",
      "execution_count": null,
      "metadata": {
        "colab": {
          "base_uri": "https://localhost:8080/"
        },
        "id": "6V3hvjl8gm3S",
        "outputId": "8f556224-d014-4e07-e442-83fa15477c78"
      },
      "outputs": [
        {
          "output_type": "stream",
          "name": "stderr",
          "text": [
            "/usr/local/lib/python3.7/dist-packages/ipykernel_launcher.py:5: DeprecationWarning: The binary mode of fromstring is deprecated, as it behaves surprisingly on unicode inputs. Use frombuffer instead\n",
            "  \"\"\"\n"
          ]
        }
      ],
      "source": [
        "raw_train = read_idx(\"/content/train-images-idx3-ubyte.gz\")\n",
        "train_data =np.reshape(raw_train,(60000,28*28))  \n",
        "train_label =read_idx(\"/content/train-labels-idx1-ubyte.gz\")  \n",
        "raw_test = read_idx(\"/content/t10k-images-idx3-ubyte.gz\")\n",
        "test_data =np.reshape(raw_test,(10000,28*28))  \n",
        "test_label =read_idx(\"/content/t10k-labels-idx1-ubyte.gz\")"
      ]
    },
    {
      "cell_type": "code",
      "execution_count": null,
      "metadata": {
        "colab": {
          "base_uri": "https://localhost:8080/"
        },
        "id": "IA8CjIhdn_ZQ",
        "outputId": "f8b41f01-f408-4b40-c50c-099db7a464b8"
      },
      "outputs": [
        {
          "output_type": "execute_result",
          "data": {
            "text/plain": [
              "(60000,)"
            ]
          },
          "metadata": {},
          "execution_count": 56
        }
      ],
      "source": [
        "train_label.shape"
      ]
    },
    {
      "cell_type": "code",
      "execution_count": null,
      "metadata": {
        "id": "cZTtbzbRmxh4"
      },
      "outputs": [],
      "source": [
        "idx = (train_label==2) | (train_label==3) | (train_label == 8) "
      ]
    },
    {
      "cell_type": "code",
      "execution_count": null,
      "metadata": {
        "colab": {
          "base_uri": "https://localhost:8080/"
        },
        "id": "8f1GZRCAnrPT",
        "outputId": "5bd8e383-d120-4160-b97b-6dbb07547be8"
      },
      "outputs": [
        {
          "output_type": "stream",
          "name": "stdout",
          "text": [
            "[5 0 4 1 9 2 1 3 1 4 3 5 3 6 1 7 2 8 6 9]\n",
            "[False False False False False  True False  True False False  True False\n",
            "  True False False False  True  True False False]\n"
          ]
        }
      ],
      "source": [
        "print(train_label[0:20])\n",
        "print(idx[0:20])\n"
      ]
    },
    {
      "cell_type": "code",
      "execution_count": null,
      "metadata": {
        "id": "p1kNJBvtpTsG"
      },
      "outputs": [],
      "source": [
        "x=train_data[idx]/255.0\n",
        "y=train_label[idx]\n",
        "svc = svm.SVC(C=3, gamma=0.05).fit(x,y)"
      ]
    },
    {
      "cell_type": "code",
      "execution_count": null,
      "metadata": {
        "id": "XIzhn7lakZqG"
      },
      "outputs": [],
      "source": [
        "idx = (test_label==2) | (test_label==3) | (test_label == 8)  \n",
        "x_test=test_data[idx]/255.0 \n",
        "y_true=test_label[idx] \n",
        "y_pred = svc.predict(x_test)"
      ]
    },
    {
      "cell_type": "code",
      "execution_count": null,
      "metadata": {
        "id": "NslNkcM0kdXv"
      },
      "outputs": [],
      "source": [
        "import itertools\n",
        "def plot_confusion_matrix(cm, classes,normalize=False,title='Confusion matrix',cmap=plt.cm.Blues):\n",
        "  \"\"\"\n",
        "  This function prints and plots the confusion matrix.\n",
        "  Normalization can be applied by setting `normalize=True`.\n",
        "  \"\"\"\n",
        "  plt.imshow(cm, interpolation='nearest', cmap=cmap)\n",
        "  plt.title(title)\n",
        "  plt.colorbar()\n",
        "  tick_marks = np.arange(len(classes))\n",
        "  plt.xticks(tick_marks, classes, rotation=45)\n",
        "  plt.yticks(tick_marks, classes)\n",
        "\n",
        "  if normalize:\n",
        "      cm = cm.astype('float') / cm.sum(axis=1)[:, np.newaxis]\n",
        "      print(\"Normalized confusion matrix\")\n",
        "  else:\n",
        "      print('Confusion matrix, without normalization')\n",
        "\n",
        "  print(cm)\n",
        "\n",
        "  thresh = cm.max() / 2.\n",
        "  for i, j in itertools.product(range(cm.shape[0]), range(cm.shape[1])):\n",
        "      plt.text(j, i, cm[i, j],\n",
        "                horizontalalignment=\"center\",\n",
        "                color=\"white\" if cm[i, j] > thresh else \"black\")\n",
        "\n",
        "  plt.tight_layout()\n",
        "  plt.ylabel('True label')\n",
        "  plt.xlabel('Predicted label')\n",
        "\n",
        "\n"
      ]
    },
    {
      "cell_type": "code",
      "execution_count": null,
      "metadata": {
        "colab": {
          "base_uri": "https://localhost:8080/",
          "height": 380
        },
        "id": "ozpmt26ir5Uk",
        "outputId": "8f62e29f-c247-4712-abf3-a09afed022b7"
      },
      "outputs": [
        {
          "output_type": "stream",
          "name": "stdout",
          "text": [
            "Confusion matrix, without normalization\n",
            "[[1024    1    7]\n",
            " [   3 1001    6]\n",
            " [   1    3  970]]\n"
          ]
        },
        {
          "output_type": "display_data",
          "data": {
            "text/plain": [
              "<Figure size 432x288 with 2 Axes>"
            ],
            "image/png": "[encoded data removed]"
          },
          "metadata": {
            "needs_background": "light"
          }
        }
      ],
      "source": [
        "cm=metrics.confusion_matrix(y_true,y_pred)\n",
        "plot_confusion_matrix(cm,[\"2\",\"3\",\"8\"], normalize=False)"
      ]
    },
    {
      "cell_type": "code",
      "execution_count": null,
      "metadata": {
        "colab": {
          "base_uri": "https://localhost:8080/",
          "height": 1000
        },
        "id": "q1JQAVsrgLmY",
        "outputId": "a49993fc-05cd-4482-c5b3-1be80b66e15c"
      },
      "outputs": [
        {
          "output_type": "display_data",
          "data": {
            "text/plain": [
              "<Figure size 360x2160 with 3 Axes>"
            ],
            "image/png": "[encoded data removed]"
          },
          "metadata": {
            "needs_background": "light"
          }
        }
      ],
      "source": [
        "idx = np.where((y_pred == 2 ) & (y_true == 3))[0]\n",
        "fig = plt.figure(figsize=(5,30))\n",
        "for i in range(len(idx)):\n",
        "    ax=fig.add_subplot(len(idx), 1 ,i+1)\n",
        "    imgplot=ax.imshow(np.reshape(x_test[idx[i],:],(28,28)) , cmap=plt.cm.get_cmap(\"Greys\"))\n",
        "    imgplot.set_interpolation(\"nearest\")\n",
        "plt.show()"
      ]
    }
  ],
  "metadata": {
    "colab": {
      "provenance": [],
      "collapsed_sections": []
    },
    "kernelspec": {
      "display_name": "Python 3",
      "name": "python3"
    },
    "language_info": {
      "name": "python"
    }
  },
  "nbformat": 4,
  "nbformat_minor": 0
}